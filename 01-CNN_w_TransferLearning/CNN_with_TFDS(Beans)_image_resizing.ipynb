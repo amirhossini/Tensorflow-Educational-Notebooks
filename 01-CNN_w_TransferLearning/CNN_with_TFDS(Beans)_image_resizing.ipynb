{
 "cells": [
  {
   "cell_type": "markdown",
   "id": "20cc61cd",
   "metadata": {},
   "source": [
    "__Project:__ Image Classification with TFDS data <br>\n",
    "__Sub-prj:__ CNN with image resizing <br>\n",
    "__Experm:__ ImageDataGenerator .flow method with image resizing <br>\n",
    "__Contact:__ Amir Hossini <br>\n",
    "__Dev Dat:__ Oct 25, 2021 <br>"
   ]
  },
  {
   "cell_type": "code",
   "execution_count": 105,
   "id": "f3b976cd",
   "metadata": {},
   "outputs": [],
   "source": [
    "import scipy\n",
    "import numpy as np\n",
    "import pandas as pd\n",
    "import tensorflow as tf\n",
    "import tensorflow_datasets as tfds\n",
    "from tensorflow import keras\n",
    "from tensorflow.keras.preprocessing.image import ImageDataGenerator\n",
    "from tensorflow.keras.models import Sequential\n",
    "from tensorflow.keras import layers\n",
    "import matplotlib.pyplot as plt"
   ]
  },
  {
   "cell_type": "code",
   "execution_count": 25,
   "id": "f2669027",
   "metadata": {},
   "outputs": [],
   "source": [
    "beans, info = tfds.load(\"beans\", with_info=True, as_supervised=True)\n",
    "images_train=[]\n",
    "labels_train=[]\n",
    "images_valid=[]\n",
    "labels_valid=[]\n",
    "images_test=[]\n",
    "labels_test=[]\n",
    "\n",
    "training_data   = beans['train']\n",
    "validation_data = beans['validation']\n",
    "testing_data    = beans['test']"
   ]
  },
  {
   "cell_type": "code",
   "execution_count": 26,
   "id": "a279ccbe",
   "metadata": {},
   "outputs": [],
   "source": [
    "for i, l in training_data:\n",
    "    images_train.append(i.numpy())\n",
    "    labels_train.append(l.numpy())\n",
    "\n",
    "images_train=np.array(images_train)\n",
    "labels_train=np.array(labels_train)\n",
    "\n",
    "for i, l in validation_data:\n",
    "    images_valid.append(i.numpy())\n",
    "    labels_valid.append(l.numpy())\n",
    "\n",
    "images_valid=np.array(images_valid)\n",
    "labels_valid=np.array(labels_valid)\n",
    "\n",
    "for i, l in testing_data:\n",
    "    images_test.append(i.numpy())\n",
    "    labels_test.append(l.numpy())\n",
    "\n",
    "images_test=np.array(images_test)\n",
    "labels_test=np.array(labels_test)"
   ]
  },
  {
   "cell_type": "code",
   "execution_count": 92,
   "id": "a949bd2f",
   "metadata": {},
   "outputs": [],
   "source": [
    "new_size=(150,150)\n",
    "images_train_resized = np.array([np.array((Image.fromarray(image)).resize(new_size, Image.BICUBIC)) for image in images_train])\n",
    "images_valid_resized = np.array([np.array((Image.fromarray(image)).resize(new_size, Image.BICUBIC)) for image in images_valid])\n",
    "images_test_resized = np.array([np.array((Image.fromarray(image)).resize(new_size, Image.BICUBIC)) for image in images_test])"
   ]
  },
  {
   "cell_type": "code",
   "execution_count": 94,
   "id": "5c1a16ab",
   "metadata": {},
   "outputs": [],
   "source": [
    "train_datagen = ImageDataGenerator(\n",
    "    rescale = 1./255,\n",
    "    rotation_range=40,\n",
    "    width_shift_range=0.2,\n",
    "    height_shift_range=0.2,\n",
    "    shear_range=0.2,\n",
    "    zoom_range=0.2,\n",
    "    horizontal_flip=True,\n",
    "    fill_mode='nearest'\n",
    "    )\n",
    "valid_datagen = ImageDataGenerator(\n",
    "    rescale = 1/255\n",
    ")\n",
    "test_datagen = ImageDataGenerator(\n",
    "    rescale = 1/255\n",
    ")"
   ]
  },
  {
   "cell_type": "code",
   "execution_count": 95,
   "id": "b05cea6d",
   "metadata": {},
   "outputs": [],
   "source": [
    "train_gen = train_datagen.flow(images_train_resized,labels_train,batch_size=64)\n",
    "valid_gen = valid_datagen.flow(images_valid_resized,labels_valid,batch_size=64)\n",
    "test_gen  = test_datagen.flow(images_test_resized,labels_test,batch_size=64)"
   ]
  },
  {
   "cell_type": "code",
   "execution_count": 96,
   "id": "5bc17345",
   "metadata": {},
   "outputs": [],
   "source": [
    "def model_compile(num_classes,img_height, img_width):\n",
    "    model = Sequential([\n",
    "        layers.Conv2D(32, (3,3), activation='relu', input_shape=(img_height, img_width, 3)),\n",
    "        layers.MaxPooling2D(2,2),\n",
    "        layers.Conv2D(32, (3,3), activation='relu'),\n",
    "        layers.MaxPooling2D(2,2),\n",
    "        layers.Flatten(),\n",
    "        layers.Dense(512, activation='relu'),\n",
    "        layers.Dense(num_classes, activation=tf.keras.activations.softmax)\n",
    "    ])\n",
    "    \n",
    "    print(model.summary())\n",
    "\n",
    "    model.compile(optimizer=tf.keras.optimizers.Adam(),\n",
    "                  loss='sparse_categorical_crossentropy',\n",
    "                  metrics=['accuracy'])\n",
    "    return model"
   ]
  },
  {
   "cell_type": "code",
   "execution_count": 102,
   "id": "3eadebca",
   "metadata": {},
   "outputs": [
    {
     "name": "stdout",
     "output_type": "stream",
     "text": [
      "Model: \"sequential_13\"\n",
      "_________________________________________________________________\n",
      "Layer (type)                 Output Shape              Param #   \n",
      "=================================================================\n",
      "conv2d_24 (Conv2D)           (None, 148, 148, 32)      896       \n",
      "_________________________________________________________________\n",
      "max_pooling2d_24 (MaxPooling (None, 74, 74, 32)        0         \n",
      "_________________________________________________________________\n",
      "conv2d_25 (Conv2D)           (None, 72, 72, 32)        9248      \n",
      "_________________________________________________________________\n",
      "max_pooling2d_25 (MaxPooling (None, 36, 36, 32)        0         \n",
      "_________________________________________________________________\n",
      "flatten_13 (Flatten)         (None, 41472)             0         \n",
      "_________________________________________________________________\n",
      "dense_26 (Dense)             (None, 512)               21234176  \n",
      "_________________________________________________________________\n",
      "dense_27 (Dense)             (None, 3)                 1539      \n",
      "=================================================================\n",
      "Total params: 21,245,859\n",
      "Trainable params: 21,245,859\n",
      "Non-trainable params: 0\n",
      "_________________________________________________________________\n",
      "None\n",
      "Epoch 1/20\n",
      "17/17 [==============================] - 4s 184ms/step - loss: 2.2521 - accuracy: 0.3279 - val_loss: 1.0952 - val_accuracy: 0.3359\n",
      "Epoch 2/20\n",
      "17/17 [==============================] - 3s 182ms/step - loss: 1.0298 - accuracy: 0.5000 - val_loss: 0.8167 - val_accuracy: 0.6250\n",
      "Epoch 3/20\n",
      "17/17 [==============================] - 3s 181ms/step - loss: 0.9316 - accuracy: 0.5358 - val_loss: 0.8831 - val_accuracy: 0.5547\n",
      "Epoch 4/20\n",
      "17/17 [==============================] - 3s 182ms/step - loss: 0.8554 - accuracy: 0.6093 - val_loss: 0.6983 - val_accuracy: 0.7031\n",
      "Epoch 5/20\n",
      "17/17 [==============================] - 3s 181ms/step - loss: 0.8033 - accuracy: 0.6441 - val_loss: 0.6128 - val_accuracy: 0.7578\n",
      "Epoch 6/20\n",
      "17/17 [==============================] - 3s 183ms/step - loss: 0.8303 - accuracy: 0.6383 - val_loss: 0.6481 - val_accuracy: 0.7188\n",
      "Epoch 7/20\n",
      "17/17 [==============================] - 3s 181ms/step - loss: 0.7843 - accuracy: 0.6605 - val_loss: 0.6231 - val_accuracy: 0.7500\n",
      "Epoch 8/20\n",
      "17/17 [==============================] - 3s 182ms/step - loss: 0.7986 - accuracy: 0.6451 - val_loss: 0.7030 - val_accuracy: 0.7031\n",
      "Epoch 9/20\n",
      "17/17 [==============================] - 3s 182ms/step - loss: 0.7836 - accuracy: 0.6383 - val_loss: 0.7056 - val_accuracy: 0.7109\n",
      "Epoch 10/20\n",
      "17/17 [==============================] - 3s 183ms/step - loss: 0.7986 - accuracy: 0.6518 - val_loss: 0.6558 - val_accuracy: 0.7266\n",
      "Epoch 11/20\n",
      "17/17 [==============================] - 3s 183ms/step - loss: 0.7448 - accuracy: 0.6721 - val_loss: 0.7054 - val_accuracy: 0.7188\n",
      "Epoch 12/20\n",
      "17/17 [==============================] - 3s 184ms/step - loss: 0.7522 - accuracy: 0.6857 - val_loss: 0.5702 - val_accuracy: 0.7500\n",
      "Epoch 13/20\n",
      "17/17 [==============================] - 3s 192ms/step - loss: 0.7141 - accuracy: 0.6944 - val_loss: 0.5460 - val_accuracy: 0.8125\n",
      "Epoch 14/20\n",
      "17/17 [==============================] - 3s 190ms/step - loss: 0.6854 - accuracy: 0.7041 - val_loss: 0.5285 - val_accuracy: 0.8125\n",
      "Epoch 15/20\n",
      "17/17 [==============================] - 3s 191ms/step - loss: 0.7272 - accuracy: 0.6992 - val_loss: 0.5912 - val_accuracy: 0.7578\n",
      "Epoch 16/20\n",
      "17/17 [==============================] - 3s 192ms/step - loss: 0.7225 - accuracy: 0.6741 - val_loss: 0.4827 - val_accuracy: 0.8047\n",
      "Epoch 17/20\n",
      "17/17 [==============================] - 3s 187ms/step - loss: 0.6498 - accuracy: 0.7176 - val_loss: 0.5489 - val_accuracy: 0.8281\n",
      "Epoch 18/20\n",
      "17/17 [==============================] - 3s 188ms/step - loss: 0.6676 - accuracy: 0.6992 - val_loss: 0.5018 - val_accuracy: 0.7891\n",
      "Epoch 19/20\n",
      "17/17 [==============================] - 3s 187ms/step - loss: 0.6702 - accuracy: 0.7099 - val_loss: 0.5811 - val_accuracy: 0.7812\n",
      "Epoch 20/20\n",
      "17/17 [==============================] - 3s 191ms/step - loss: 0.6335 - accuracy: 0.7147 - val_loss: 0.4781 - val_accuracy: 0.8281\n"
     ]
    }
   ],
   "source": [
    "img_height  = images_train_resized.shape[1]\n",
    "img_width   = images_train_resized.shape[2]\n",
    "num_classes = len(np.unique(labels_train))\n",
    "\n",
    "model       = model_compile(num_classes,img_height, img_width)\n",
    "history     = model.fit(train_gen, validation_data=test_gen,epochs=20)"
   ]
  },
  {
   "cell_type": "code",
   "execution_count": 106,
   "id": "18d0fdc6",
   "metadata": {},
   "outputs": [
    {
     "data": {
      "image/png": "[encoded data removed]",
      "text/plain": [
       "<Figure size 432x288 with 1 Axes>"
      ]
     },
     "metadata": {
      "needs_background": "light"
     },
     "output_type": "display_data"
    },
    {
     "data": {
      "image/png": "[encoded data removed]",
      "text/plain": [
       "<Figure size 432x288 with 1 Axes>"
      ]
     },
     "metadata": {
      "needs_background": "light"
     },
     "output_type": "display_data"
    }
   ],
   "source": [
    "# Plot the chart for accuracy and loss on both training and validation\n",
    "acc = history.history['accuracy']\n",
    "val_acc = history.history['val_accuracy']\n",
    "loss = history.history['loss']\n",
    "val_loss = history.history['val_loss']\n",
    "\n",
    "epochs = range(len(acc))\n",
    "\n",
    "plt.plot(epochs, acc, 'r', label='Training accuracy')\n",
    "plt.plot(epochs, val_acc, 'b', label='Validation accuracy')\n",
    "plt.title('Training and validation accuracy')\n",
    "plt.legend()\n",
    "plt.figure()\n",
    "\n",
    "plt.plot(epochs, loss, 'r', label='Training Loss')\n",
    "plt.plot(epochs, val_loss, 'b', label='Validation Loss')\n",
    "plt.title('Training and validation loss')\n",
    "plt.legend()\n",
    "\n",
    "plt.show()"
   ]
  },
  {
   "cell_type": "code",
   "execution_count": null,
   "id": "a9bbf62a",
   "metadata": {},
   "outputs": [],
   "source": []
  }
 ],
 "metadata": {
  "kernelspec": {
   "display_name": "Python [conda env:tf2.5]",
   "language": "python",
   "name": "conda-env-tf2.5-py"
  },
  "language_info": {
   "codemirror_mode": {
    "name": "ipython",
    "version": 3
   },
   "file_extension": ".py",
   "mimetype": "text/x-python",
   "name": "python",
   "nbconvert_exporter": "python",
   "pygments_lexer": "ipython3",
   "version": "3.8.0"
  }
 },
 "nbformat": 4,
 "nbformat_minor": 5
}
